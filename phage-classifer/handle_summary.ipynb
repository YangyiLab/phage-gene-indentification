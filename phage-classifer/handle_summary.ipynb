{
 "cells": [
  {
   "cell_type": "code",
   "execution_count": 37,
   "source": [
    "f=open(\"ss-summary.txt\")\n",
    "fw=open(\"ss-linear-downlownd.txt\",'w')\n",
    "a=f.readline()\n",
    "while a is not None and a != '':\n",
    "    a=f.readline()\n",
    "    if a.endswith(\"linear DNA \\n\"):\n",
    "        fw.write(f.readline().split()[0]+'\\n')\n",
    "        # print(f.readline().split()[0])\n",
    "fw.close()"
   ],
   "outputs": [],
   "metadata": {}
  },
  {
   "cell_type": "code",
   "execution_count": 36,
   "source": [
    "f=open(\"ds-summary.txt\")\n",
    "fw=open(\"ds-linear-downlownd.txt\",'w')\n",
    "a=f.readline()\n",
    "while a is not None and a != '':\n",
    "    a=f.readline()\n",
    "    if a.endswith(\"linear DNA \\n\"):\n",
    "        fw.write(f.readline().split()[0]+'\\n')\n",
    "        # print(f.readline().split()[0])\n",
    "fw.close()"
   ],
   "outputs": [],
   "metadata": {}
  }
 ],
 "metadata": {
  "orig_nbformat": 4,
  "language_info": {
   "name": "python",
   "version": "3.8.10",
   "mimetype": "text/x-python",
   "codemirror_mode": {
    "name": "ipython",
    "version": 3
   },
   "pygments_lexer": "ipython3",
   "nbconvert_exporter": "python",
   "file_extension": ".py"
  },
  "kernelspec": {
   "name": "python3",
   "display_name": "Python 3.8.10 64-bit"
  },
  "interpreter": {
   "hash": "31f2aee4e71d21fbe5cf8b01ff0e069b9275f58929596ceb00d14d90e3e16cd6"
  }
 },
 "nbformat": 4,
 "nbformat_minor": 2
}